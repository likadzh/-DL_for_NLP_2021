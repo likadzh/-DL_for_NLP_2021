{
 "cells": [
  {
   "cell_type": "markdown",
   "metadata": {
    "id": "P8tDK5A9OCM7"
   },
   "source": [
    "## Домашняя работа №1 Part1\n",
    "Вам предстоит:\n",
    "\n",
    "Написать персептрон с двумя слоями. Реализовать форвард и бэквард пропогейшен\n",
    "\n"
   ]
  },
  {
   "cell_type": "code",
   "execution_count": 1,
   "metadata": {
    "id": "c5IbKpsMN_F1"
   },
   "outputs": [],
   "source": [
    "import numpy as np\n",
    "from sklearn.metrics import classification_report\n",
    "import torch\n",
    "from torch.utils.data import DataLoader\n",
    "from torchvision.datasets import MNIST\n",
    "from torchvision import transforms\n",
    "import matplotlib.pyplot as plt\n",
    "from tqdm import tqdm\n",
    "from sklearn.metrics import accuracy_score\n",
    "import time"
   ]
  },
  {
   "cell_type": "markdown",
   "metadata": {
    "id": "zQRYevLNN_GA"
   },
   "source": [
    "# Датасет\n",
    "Загрузим Мнист. Почему именно он? Мы будем решать задачу бинарной классификации на паре цифр: 3 и 7. Плюсы в том, что примеров для этих чисел достаточно, чтобы обучить НС, у каждого примера не так много фичей (28Х28 - размерность картинок) и, в целом, эти классы хорошо отделяются. Я б с радостью показал вам пример с текстами, но если писать НС с нуля и пытаться обучаться на текстах, не факт, что у нас хоть что то обучится :(  \n",
    "  "
   ]
  },
  {
   "cell_type": "markdown",
   "metadata": {
    "id": "EtMN4ZlSN_GC"
   },
   "source": [
    "Торч - объект, который позволяет нормализовать картинки, можно думать о нем как о предобработке (регулярках) для текстов. В целом не стоит здесь долго думать"
   ]
  },
  {
   "cell_type": "code",
   "execution_count": 2,
   "metadata": {
    "id": "BMugicmkN_GE"
   },
   "outputs": [],
   "source": [
    "transform = transforms.Compose([\n",
    "    transforms.ToTensor(),\n",
    "    transforms.Normalize((0.1307,), (0.3081,))\n",
    "])"
   ]
  },
  {
   "cell_type": "markdown",
   "metadata": {
    "id": "actIVoMKN_GJ"
   },
   "source": [
    "Загружаем датасет. Возращается особенный торчовый класс, чуть ниже мы зададим его сами и научимся им полльзоваться, пока оставляем эз из.\n"
   ]
  },
  {
   "cell_type": "code",
   "execution_count": 4,
   "metadata": {
    "colab": {
     "base_uri": "https://localhost:8080/",
     "height": 255
    },
    "id": "fQpJqIWrN_GK",
    "outputId": "2ed59df6-e5df-4487-dc74-74950632d80c"
   },
   "outputs": [
    {
     "name": "stderr",
     "output_type": "stream",
     "text": [
      "C:\\Users\\ultra\\anaconda3\\lib\\site-packages\\torchvision\\datasets\\mnist.py:498: UserWarning: The given NumPy array is not writeable, and PyTorch does not support non-writeable tensors. This means you can write to the underlying (supposedly non-writeable) NumPy array using the tensor. You may want to copy the array to protect its data or make it writeable before converting it to a tensor. This type of warning will be suppressed for the rest of this program. (Triggered internally at  ..\\torch\\csrc\\utils\\tensor_numpy.cpp:180.)\n",
      "  return torch.from_numpy(parsed.astype(m[2], copy=False)).view(*s)\n"
     ]
    }
   ],
   "source": [
    "train_dataset = MNIST('.', train=True, download=True, transform=transform)\n",
    "test_dataset = MNIST('.', train=False, transform=transform)"
   ]
  },
  {
   "cell_type": "markdown",
   "metadata": {
    "id": "aUSUIJbUN_GQ"
   },
   "source": [
    "Выбираем два класса. Если вы достаточно хорошо знакомы с пандас, то можно понять, что никакой магии здесь нет."
   ]
  },
  {
   "cell_type": "code",
   "execution_count": 5,
   "metadata": {
    "id": "vx73oHg9N_GS"
   },
   "outputs": [],
   "source": [
    "#фильтруем фичи (дата) по значению классификационных лэйблов (таргет), берем или цифру 3 или цифру 7\n",
    "train_dataset.data = train_dataset.data[(train_dataset.targets == 3) | (train_dataset.targets == 7)]\n",
    "train_dataset.targets = train_dataset.targets[(train_dataset.targets == 3) | (train_dataset.targets == 7)]\n",
    "#тоже самое для тестового набора\n",
    "test_dataset.data = test_dataset.data[(test_dataset.targets == 3) | (test_dataset.targets == 7)]\n",
    "test_dataset.targets = test_dataset.targets[(test_dataset.targets == 3) | (test_dataset.targets == 7)]\n",
    "#необходимы препроцессинг лейблов, видимо не все значения имею тип integer, а нам нужен именно этот тип функция лонг позволяет нам \n",
    "#        это сделать (self.long() is equivalent to self.to(torch.int64). See to())\n",
    "train_dataset.targets = (train_dataset.targets == 7).long()\n",
    "test_dataset.targets = (test_dataset.targets == 7).long()"
   ]
  },
  {
   "cell_type": "markdown",
   "metadata": {
    "id": "RHelnPG0N_GX"
   },
   "source": [
    "Мы неоднократно говорили, что НС обычно тренируются бачами, в торче есть удобный класс, который позволяет обернуть наши датасеты в итерируемый объект. Если не знаете что такое итерируемый объект, погуглите :) можно думать об этом как о списке с составными элементами (элемент - батч - набор примеров) "
   ]
  },
  {
   "cell_type": "code",
   "execution_count": 6,
   "metadata": {
    "id": "ENLomAueN_GZ"
   },
   "outputs": [],
   "source": [
    "train_loader = DataLoader(train_dataset, batch_size=128, shuffle=True)\n",
    "test_loader = DataLoader(test_dataset, batch_size=128, shuffle=False)"
   ]
  },
  {
   "cell_type": "code",
   "execution_count": 7,
   "metadata": {
    "colab": {
     "base_uri": "https://localhost:8080/",
     "height": 952
    },
    "id": "rdvq5scBXtWY",
    "outputId": "b3ea3409-955b-433a-ac9e-084b117dbcc7"
   },
   "outputs": [
    {
     "data": {
      "text/plain": [
       "tensor([[[[-0.4242, -0.4242, -0.4242,  ..., -0.4242, -0.4242, -0.4242],\n",
       "          [-0.4242, -0.4242, -0.4242,  ..., -0.4242, -0.4242, -0.4242],\n",
       "          [-0.4242, -0.4242, -0.4242,  ..., -0.4242, -0.4242, -0.4242],\n",
       "          ...,\n",
       "          [-0.4242, -0.4242, -0.4242,  ..., -0.4242, -0.4242, -0.4242],\n",
       "          [-0.4242, -0.4242, -0.4242,  ..., -0.4242, -0.4242, -0.4242],\n",
       "          [-0.4242, -0.4242, -0.4242,  ..., -0.4242, -0.4242, -0.4242]]],\n",
       "\n",
       "\n",
       "        [[[-0.4242, -0.4242, -0.4242,  ..., -0.4242, -0.4242, -0.4242],\n",
       "          [-0.4242, -0.4242, -0.4242,  ..., -0.4242, -0.4242, -0.4242],\n",
       "          [-0.4242, -0.4242, -0.4242,  ..., -0.4242, -0.4242, -0.4242],\n",
       "          ...,\n",
       "          [-0.4242, -0.4242, -0.4242,  ..., -0.4242, -0.4242, -0.4242],\n",
       "          [-0.4242, -0.4242, -0.4242,  ..., -0.4242, -0.4242, -0.4242],\n",
       "          [-0.4242, -0.4242, -0.4242,  ..., -0.4242, -0.4242, -0.4242]]],\n",
       "\n",
       "\n",
       "        [[[-0.4242, -0.4242, -0.4242,  ..., -0.4242, -0.4242, -0.4242],\n",
       "          [-0.4242, -0.4242, -0.4242,  ..., -0.4242, -0.4242, -0.4242],\n",
       "          [-0.4242, -0.4242, -0.4242,  ..., -0.4242, -0.4242, -0.4242],\n",
       "          ...,\n",
       "          [-0.4242, -0.4242, -0.4242,  ..., -0.4242, -0.4242, -0.4242],\n",
       "          [-0.4242, -0.4242, -0.4242,  ..., -0.4242, -0.4242, -0.4242],\n",
       "          [-0.4242, -0.4242, -0.4242,  ..., -0.4242, -0.4242, -0.4242]]],\n",
       "\n",
       "\n",
       "        ...,\n",
       "\n",
       "\n",
       "        [[[-0.4242, -0.4242, -0.4242,  ..., -0.4242, -0.4242, -0.4242],\n",
       "          [-0.4242, -0.4242, -0.4242,  ..., -0.4242, -0.4242, -0.4242],\n",
       "          [-0.4242, -0.4242, -0.4242,  ..., -0.4242, -0.4242, -0.4242],\n",
       "          ...,\n",
       "          [-0.4242, -0.4242, -0.4242,  ..., -0.4242, -0.4242, -0.4242],\n",
       "          [-0.4242, -0.4242, -0.4242,  ..., -0.4242, -0.4242, -0.4242],\n",
       "          [-0.4242, -0.4242, -0.4242,  ..., -0.4242, -0.4242, -0.4242]]],\n",
       "\n",
       "\n",
       "        [[[-0.4242, -0.4242, -0.4242,  ..., -0.4242, -0.4242, -0.4242],\n",
       "          [-0.4242, -0.4242, -0.4242,  ..., -0.4242, -0.4242, -0.4242],\n",
       "          [-0.4242, -0.4242, -0.4242,  ..., -0.4242, -0.4242, -0.4242],\n",
       "          ...,\n",
       "          [-0.4242, -0.4242, -0.4242,  ..., -0.4242, -0.4242, -0.4242],\n",
       "          [-0.4242, -0.4242, -0.4242,  ..., -0.4242, -0.4242, -0.4242],\n",
       "          [-0.4242, -0.4242, -0.4242,  ..., -0.4242, -0.4242, -0.4242]]],\n",
       "\n",
       "\n",
       "        [[[-0.4242, -0.4242, -0.4242,  ..., -0.4242, -0.4242, -0.4242],\n",
       "          [-0.4242, -0.4242, -0.4242,  ..., -0.4242, -0.4242, -0.4242],\n",
       "          [-0.4242, -0.4242, -0.4242,  ..., -0.4242, -0.4242, -0.4242],\n",
       "          ...,\n",
       "          [-0.4242, -0.4242, -0.4242,  ..., -0.4242, -0.4242, -0.4242],\n",
       "          [-0.4242, -0.4242, -0.4242,  ..., -0.4242, -0.4242, -0.4242],\n",
       "          [-0.4242, -0.4242, -0.4242,  ..., -0.4242, -0.4242, -0.4242]]]])"
      ]
     },
     "execution_count": 7,
     "metadata": {},
     "output_type": "execute_result"
    }
   ],
   "source": [
    "X, y = next(iter(train_loader)) #next(iter(x) - Возвращает следующий элемент итератора.\n",
    "X"
   ]
  },
  {
   "cell_type": "code",
   "execution_count": 8,
   "metadata": {
    "colab": {
     "base_uri": "https://localhost:8080/",
     "height": 119
    },
    "id": "SAaI0uHWYUrb",
    "outputId": "b9a743d2-f2be-4930-dba3-e9ab123e20b5"
   },
   "outputs": [
    {
     "data": {
      "text/plain": [
       "tensor([0, 1, 1, 1, 0, 1, 0, 0, 0, 0, 0, 1, 1, 1, 0, 1, 0, 1, 1, 1, 1, 1, 0, 1,\n",
       "        1, 1, 1, 1, 0, 1, 1, 0, 1, 1, 1, 1, 1, 0, 1, 0, 1, 0, 0, 1, 0, 0, 1, 0,\n",
       "        0, 0, 1, 1, 0, 1, 0, 0, 1, 0, 1, 1, 0, 1, 1, 1, 1, 1, 0, 0, 1, 1, 0, 0,\n",
       "        1, 0, 1, 0, 1, 0, 1, 0, 1, 0, 0, 0, 0, 0, 0, 0, 0, 1, 1, 0, 0, 0, 0, 0,\n",
       "        1, 1, 1, 1, 1, 0, 1, 0, 0, 1, 1, 0, 0, 1, 1, 1, 0, 1, 1, 1, 0, 1, 0, 0,\n",
       "        0, 1, 0, 1, 0, 0, 1, 1])"
      ]
     },
     "execution_count": 8,
     "metadata": {},
     "output_type": "execute_result"
    }
   ],
   "source": [
    "y"
   ]
  },
  {
   "cell_type": "markdown",
   "metadata": {
    "id": "KPw6jv5hYXhV"
   },
   "source": [
    "Никакой магии, просто многомерные матрицы. Можно даже проверить, что то, что мы получили, то есть первый батч имееет правильную размерность.В y - 1 это класс цифры \"7\", 0 - \"3\""
   ]
  },
  {
   "cell_type": "code",
   "execution_count": 9,
   "metadata": {
    "colab": {
     "base_uri": "https://localhost:8080/",
     "height": 34
    },
    "id": "mQH1_6dSYlnW",
    "outputId": "f6f72aba-2367-442f-eb82-10f38c7d039d"
   },
   "outputs": [
    {
     "data": {
      "text/plain": [
       "torch.Size([128, 1, 28, 28])"
      ]
     },
     "execution_count": 9,
     "metadata": {},
     "output_type": "execute_result"
    }
   ],
   "source": [
    "X.shape #128 - примеров, [1, 28, 28] - размерность картинки, 1 - значит что из трех каналов (Р, Г, Б) у нас всего один, а сама картинка 28 на 28"
   ]
  },
  {
   "cell_type": "code",
   "execution_count": 10,
   "metadata": {
    "colab": {
     "base_uri": "https://localhost:8080/",
     "height": 34
    },
    "id": "yGAYt4oqYpW5",
    "outputId": "28184602-483d-45e4-f6b1-3b82cec0d19f"
   },
   "outputs": [
    {
     "data": {
      "text/plain": [
       "torch.Size([128])"
      ]
     },
     "execution_count": 10,
     "metadata": {},
     "output_type": "execute_result"
    }
   ],
   "source": [
    "y.shape"
   ]
  },
  {
   "cell_type": "markdown",
   "metadata": {
    "id": "CNVEJYNXN_Gd"
   },
   "source": [
    "Проверим, правда ли это картинки"
   ]
  },
  {
   "cell_type": "code",
   "execution_count": 11,
   "metadata": {
    "colab": {
     "base_uri": "https://localhost:8080/",
     "height": 420
    },
    "id": "-Kkv2jAKN_Ge",
    "outputId": "10a727e2-6340-4f62-91fa-6f0e441c86ac"
   },
   "outputs": [
    {
     "data": {
      "image/png": "[encoded data removed]",
      "text/plain": [
       "<Figure size 432x504 with 25 Axes>"
      ]
     },
     "metadata": {
      "needs_background": "light"
     },
     "output_type": "display_data"
    }
   ],
   "source": [
    "X, y = next(iter(train_loader))\n",
    "X = X.numpy() # перевод тензора в массив нумпай, просто изменение типа данных \n",
    "y = y.numpy()\n",
    "\n",
    "plt.figure(figsize=(6, 7))\n",
    "for i in range(25):\n",
    "    plt.subplot(5, 5, i+1)\n",
    "    plt.imshow(X[i].reshape(28, 28), cmap=plt.cm.Greys_r)\n",
    "    plt.title(y[i])\n",
    "    plt.axis('off')"
   ]
  },
  {
   "cell_type": "markdown",
   "metadata": {
    "id": "jL6Cd-7tb29_"
   },
   "source": [
    "Нам столько размерностей не нужно, поэтому давайте выпрямим матрицу, тем боле мы знаем что значение каждого пикселя независимо друг друга."
   ]
  },
  {
   "cell_type": "code",
   "execution_count": 12,
   "metadata": {
    "colab": {
     "base_uri": "https://localhost:8080/",
     "height": 34
    },
    "id": "tDiEEUYJN_G6",
    "outputId": "c057b0ba-904b-4a91-e982-db48628aa346"
   },
   "outputs": [
    {
     "data": {
      "text/plain": [
       "torch.Size([128, 784])"
      ]
     },
     "execution_count": 12,
     "metadata": {},
     "output_type": "execute_result"
    }
   ],
   "source": [
    "X, y = next(iter(train_loader))\n",
    "X = X.view(X.shape[0], -1)\n",
    "X.shape"
   ]
  },
  {
   "cell_type": "markdown",
   "metadata": {
    "id": "6_m0y3z9N_HN"
   },
   "source": [
    " Размерность\n",
    "- количество примеров в батче\n",
    "- количество фичей"
   ]
  },
  {
   "cell_type": "code",
   "execution_count": 13,
   "metadata": {
    "colab": {
     "base_uri": "https://localhost:8080/",
     "height": 119
    },
    "id": "0rRs_fibN_HX",
    "outputId": "e029c693-4927-4781-e4a7-8ee3a4b02d1e"
   },
   "outputs": [
    {
     "data": {
      "text/plain": [
       "tensor([0, 0, 1, 0, 1, 1, 1, 0, 1, 0, 0, 1, 0, 0, 0, 1, 0, 0, 1, 0, 0, 0, 0, 1,\n",
       "        1, 0, 0, 1, 0, 1, 1, 0, 0, 1, 0, 0, 1, 0, 0, 0, 1, 1, 1, 1, 0, 1, 1, 1,\n",
       "        1, 1, 0, 1, 1, 0, 0, 1, 1, 1, 1, 1, 0, 0, 1, 1, 0, 1, 0, 1, 0, 0, 0, 1,\n",
       "        1, 0, 1, 0, 0, 1, 1, 0, 1, 0, 1, 0, 0, 1, 0, 0, 0, 1, 1, 0, 1, 1, 1, 1,\n",
       "        1, 1, 1, 0, 1, 0, 1, 0, 0, 0, 0, 0, 1, 1, 1, 1, 0, 1, 1, 0, 0, 1, 1, 0,\n",
       "        0, 0, 0, 0, 1, 1, 1, 0])"
      ]
     },
     "execution_count": 13,
     "metadata": {},
     "output_type": "execute_result"
    }
   ],
   "source": [
    "y"
   ]
  },
  {
   "cell_type": "markdown",
   "metadata": {
    "id": "Z4vTsvPZdPQg"
   },
   "source": [
    "Такой У нам не совсем подходит. Сейчас объясню почему. Размерность Х (128,784) матрично перемножим на скрытый слой (784,1) и получится (128,1). Нужно понимать, что размерность (128,) и (128,1) это немного разные вещи  "
   ]
  },
  {
   "cell_type": "code",
   "execution_count": 14,
   "metadata": {
    "colab": {
     "base_uri": "https://localhost:8080/",
     "height": 34
    },
    "id": "98g7689ON_Hc",
    "outputId": "007d721e-ebd9-4752-d948-97887b4917bd"
   },
   "outputs": [
    {
     "data": {
      "text/plain": [
       "torch.Size([128, 1])"
      ]
     },
     "execution_count": 14,
     "metadata": {},
     "output_type": "execute_result"
    }
   ],
   "source": [
    "w = torch.rand(784, 1) #Рандомные необученые веса\n",
    "pred = X.matmul(w)\n",
    "pred.shape"
   ]
  },
  {
   "cell_type": "code",
   "execution_count": 15,
   "metadata": {
    "colab": {
     "base_uri": "https://localhost:8080/",
     "height": 1000
    },
    "id": "KG9L5xtJd9TQ",
    "outputId": "6e5671bc-eb6a-4e20-f5c9-2d391b067d4a"
   },
   "outputs": [
    {
     "data": {
      "text/plain": [
       "tensor([[ 1.0972e+02],\n",
       "        [-5.1162e+01],\n",
       "        [-5.1950e+01],\n",
       "        [-5.5714e+01],\n",
       "        [ 4.3726e+01],\n",
       "        [-1.7297e+01],\n",
       "        [ 2.2520e+00],\n",
       "        [ 3.6690e+01],\n",
       "        [ 1.1650e+01],\n",
       "        [-2.8880e+01],\n",
       "        [ 5.7869e+01],\n",
       "        [ 6.7685e+01],\n",
       "        [ 6.5359e+00],\n",
       "        [-6.9904e+01],\n",
       "        [-8.1069e+01],\n",
       "        [ 4.8284e+00],\n",
       "        [ 5.0447e+01],\n",
       "        [ 7.1461e+00],\n",
       "        [-4.8412e+01],\n",
       "        [-9.7047e+00],\n",
       "        [ 8.5252e+00],\n",
       "        [-5.9982e+00],\n",
       "        [ 1.1787e+01],\n",
       "        [ 1.8756e+00],\n",
       "        [-2.7384e+01],\n",
       "        [-6.3877e+01],\n",
       "        [ 7.1778e+01],\n",
       "        [-3.4066e+01],\n",
       "        [ 2.9947e+01],\n",
       "        [-5.4620e+01],\n",
       "        [-5.0395e+01],\n",
       "        [ 5.3539e+01],\n",
       "        [ 7.9530e+01],\n",
       "        [-6.7653e+01],\n",
       "        [-1.6655e+01],\n",
       "        [-6.2246e+01],\n",
       "        [-7.5482e+01],\n",
       "        [ 9.3517e+00],\n",
       "        [ 2.6067e+01],\n",
       "        [ 7.4599e+01],\n",
       "        [-6.8039e+01],\n",
       "        [-1.4560e+01],\n",
       "        [ 1.7754e+01],\n",
       "        [-7.0411e+01],\n",
       "        [-4.1669e+01],\n",
       "        [-3.8449e+01],\n",
       "        [-4.3695e+01],\n",
       "        [-6.1267e+01],\n",
       "        [-3.8864e+01],\n",
       "        [-2.4536e+01],\n",
       "        [-4.6563e+01],\n",
       "        [-4.4123e+01],\n",
       "        [-1.7703e+01],\n",
       "        [ 6.4739e+01],\n",
       "        [-3.9102e-02],\n",
       "        [ 1.5210e+01],\n",
       "        [ 7.8854e+00],\n",
       "        [-6.4647e+01],\n",
       "        [-5.3472e+01],\n",
       "        [-3.3375e+01],\n",
       "        [ 6.6827e+01],\n",
       "        [ 9.5146e+01],\n",
       "        [-3.0012e+01],\n",
       "        [ 2.6706e+01],\n",
       "        [ 1.1086e+02],\n",
       "        [-1.3106e+01],\n",
       "        [-5.3460e+01],\n",
       "        [-2.7056e+01],\n",
       "        [ 1.3514e+01],\n",
       "        [-2.6663e+01],\n",
       "        [-7.6792e+01],\n",
       "        [-6.0272e+01],\n",
       "        [ 3.8759e+00],\n",
       "        [-3.3137e+01],\n",
       "        [-4.3061e+00],\n",
       "        [ 1.5152e+01],\n",
       "        [ 1.7616e+01],\n",
       "        [-6.9504e+01],\n",
       "        [-2.3921e+01],\n",
       "        [ 8.2763e+01],\n",
       "        [ 1.3763e+01],\n",
       "        [-4.0190e+00],\n",
       "        [-4.2561e+01],\n",
       "        [ 1.0326e+02],\n",
       "        [-4.8978e+01],\n",
       "        [ 9.3529e+00],\n",
       "        [ 1.9709e+01],\n",
       "        [ 4.8118e+01],\n",
       "        [-2.4699e+01],\n",
       "        [ 1.6970e+01],\n",
       "        [-4.3496e+01],\n",
       "        [-3.8289e+01],\n",
       "        [-4.6483e+01],\n",
       "        [-9.5738e+01],\n",
       "        [ 8.9301e+00],\n",
       "        [-3.8611e+01],\n",
       "        [-5.3790e+01],\n",
       "        [ 6.8972e+00],\n",
       "        [-2.9188e+01],\n",
       "        [-3.3731e+01],\n",
       "        [ 2.4354e+01],\n",
       "        [-4.8978e+01],\n",
       "        [-3.1763e+01],\n",
       "        [ 3.2871e+01],\n",
       "        [-4.0362e+01],\n",
       "        [ 3.4484e+01],\n",
       "        [-9.7360e+01],\n",
       "        [-7.0802e+00],\n",
       "        [ 7.1492e+00],\n",
       "        [ 2.0803e+01],\n",
       "        [ 3.1795e+01],\n",
       "        [-5.1451e+01],\n",
       "        [ 6.2947e+01],\n",
       "        [-8.8319e+01],\n",
       "        [-2.6483e+01],\n",
       "        [ 1.3268e+01],\n",
       "        [-1.9985e+01],\n",
       "        [-4.7947e+01],\n",
       "        [-7.5618e+01],\n",
       "        [ 1.4721e+02],\n",
       "        [ 3.0457e+01],\n",
       "        [-2.6731e+00],\n",
       "        [ 2.9804e+01],\n",
       "        [ 2.1027e+01],\n",
       "        [-1.1311e+01],\n",
       "        [-6.1827e+01],\n",
       "        [-3.6750e+01],\n",
       "        [ 3.6196e+00]])"
      ]
     },
     "execution_count": 15,
     "metadata": {},
     "output_type": "execute_result"
    }
   ],
   "source": [
    "pred"
   ]
  },
  {
   "cell_type": "markdown",
   "metadata": {
    "id": "Rb1hswcGeEpc"
   },
   "source": [
    "Теперь у нас есть предсказания и их размерность (128,1). Нужно будет счтить лосс с у, поэтому приведем его к такой же размерности с expand_dims - это функция есть в нумпае, также есть и в торче"
   ]
  },
  {
   "cell_type": "code",
   "execution_count": 16,
   "metadata": {
    "id": "wAIFQMfwN_Hl"
   },
   "outputs": [],
   "source": [
    "y = np.expand_dims(y, 1)"
   ]
  },
  {
   "cell_type": "code",
   "execution_count": 17,
   "metadata": {
    "colab": {
     "base_uri": "https://localhost:8080/",
     "height": 1000
    },
    "id": "SrlrvUq7N_Hw",
    "outputId": "3a38d8c2-f9ce-4565-c289-fd32ac79dec1"
   },
   "outputs": [
    {
     "data": {
      "text/plain": [
       "array([[0],\n",
       "       [0],\n",
       "       [1],\n",
       "       [0],\n",
       "       [1],\n",
       "       [1],\n",
       "       [1],\n",
       "       [0],\n",
       "       [1],\n",
       "       [0],\n",
       "       [0],\n",
       "       [1],\n",
       "       [0],\n",
       "       [0],\n",
       "       [0],\n",
       "       [1],\n",
       "       [0],\n",
       "       [0],\n",
       "       [1],\n",
       "       [0],\n",
       "       [0],\n",
       "       [0],\n",
       "       [0],\n",
       "       [1],\n",
       "       [1],\n",
       "       [0],\n",
       "       [0],\n",
       "       [1],\n",
       "       [0],\n",
       "       [1],\n",
       "       [1],\n",
       "       [0],\n",
       "       [0],\n",
       "       [1],\n",
       "       [0],\n",
       "       [0],\n",
       "       [1],\n",
       "       [0],\n",
       "       [0],\n",
       "       [0],\n",
       "       [1],\n",
       "       [1],\n",
       "       [1],\n",
       "       [1],\n",
       "       [0],\n",
       "       [1],\n",
       "       [1],\n",
       "       [1],\n",
       "       [1],\n",
       "       [1],\n",
       "       [0],\n",
       "       [1],\n",
       "       [1],\n",
       "       [0],\n",
       "       [0],\n",
       "       [1],\n",
       "       [1],\n",
       "       [1],\n",
       "       [1],\n",
       "       [1],\n",
       "       [0],\n",
       "       [0],\n",
       "       [1],\n",
       "       [1],\n",
       "       [0],\n",
       "       [1],\n",
       "       [0],\n",
       "       [1],\n",
       "       [0],\n",
       "       [0],\n",
       "       [0],\n",
       "       [1],\n",
       "       [1],\n",
       "       [0],\n",
       "       [1],\n",
       "       [0],\n",
       "       [0],\n",
       "       [1],\n",
       "       [1],\n",
       "       [0],\n",
       "       [1],\n",
       "       [0],\n",
       "       [1],\n",
       "       [0],\n",
       "       [0],\n",
       "       [1],\n",
       "       [0],\n",
       "       [0],\n",
       "       [0],\n",
       "       [1],\n",
       "       [1],\n",
       "       [0],\n",
       "       [1],\n",
       "       [1],\n",
       "       [1],\n",
       "       [1],\n",
       "       [1],\n",
       "       [1],\n",
       "       [1],\n",
       "       [0],\n",
       "       [1],\n",
       "       [0],\n",
       "       [1],\n",
       "       [0],\n",
       "       [0],\n",
       "       [0],\n",
       "       [0],\n",
       "       [0],\n",
       "       [1],\n",
       "       [1],\n",
       "       [1],\n",
       "       [1],\n",
       "       [0],\n",
       "       [1],\n",
       "       [1],\n",
       "       [0],\n",
       "       [0],\n",
       "       [1],\n",
       "       [1],\n",
       "       [0],\n",
       "       [0],\n",
       "       [0],\n",
       "       [0],\n",
       "       [0],\n",
       "       [1],\n",
       "       [1],\n",
       "       [1],\n",
       "       [0]], dtype=int64)"
      ]
     },
     "execution_count": 17,
     "metadata": {},
     "output_type": "execute_result"
    }
   ],
   "source": [
    "y"
   ]
  },
  {
   "cell_type": "markdown",
   "metadata": {
    "id": "TFAKpwY_N_H_"
   },
   "source": [
    "Итерация по эпохам"
   ]
  },
  {
   "cell_type": "code",
   "execution_count": 102,
   "metadata": {
    "colab": {
     "base_uri": "https://localhost:8080/",
     "height": 68
    },
    "id": "DWmQFlyWN_IB",
    "outputId": "5317f355-03fc-443c-90b2-811c563ac813"
   },
   "outputs": [
    {
     "name": "stdout",
     "output_type": "stream",
     "text": [
      "Эпоха - 1, прошли - 100.00 % датасета\n",
      "Эпоха - 2, прошли - 100.00 % датасета\n",
      "Эпоха - 3, прошли - 100.00 % датасета\n"
     ]
    }
   ],
   "source": [
    "epochs = 3\n",
    "\n",
    "for n_epoch in range(epochs):\n",
    "    \n",
    "    dataset_passed_samples = 0\n",
    "    \n",
    "    for x, y in train_loader:\n",
    "        \n",
    "        # вот здесь мы могли бы как-то манипулировать с данными, например, учить, но пока этого делать не будет\n",
    "        \n",
    "        time.sleep(0.05)\n",
    "        \n",
    "        dataset_passed_samples += x.shape[0]\n",
    "        \n",
    "        dataset_passed_percent = dataset_passed_samples * 100 / train_loader.dataset.data.shape[0]\n",
    "        \n",
    "        print(f'Эпоха - {n_epoch + 1}, прошли - {dataset_passed_percent:.2f} % датасета', end='\\r')\n",
    "        \n",
    "    print('\\r')"
   ]
  },
  {
   "cell_type": "markdown",
   "metadata": {
    "id": "8iBd9MS_f7Eg"
   },
   "source": [
    "# Однослойный персептрон"
   ]
  },
  {
   "cell_type": "code",
   "execution_count": 19,
   "metadata": {
    "colab": {
     "base_uri": "https://localhost:8080/",
     "height": 102
    },
    "id": "x9wKt3z1gIo7",
    "outputId": "1eff2785-550d-4042-b511-05a050f71c96"
   },
   "outputs": [
    {
     "name": "stdout",
     "output_type": "stream",
     "text": [
      "Epoch: 1\n",
      "Epoch: 2\n",
      "Epoch: 3\n",
      "Epoch: 4\n",
      "Epoch: 5\n"
     ]
    }
   ],
   "source": [
    "learning_rate = 0.01 # тот самый лернинг рейт, который определяет какую часть от градиента мы будем брать\n",
    "epochs = 5  #сколько раз мы пройдем по всему тренировачному набору наших данных\n",
    "\n",
    "batch_size = 128  #это число примеров в баче понадобится нам при обучении чтобы усреднять лосс (ошибку обучения)\n",
    "n_feat = 784\n",
    "\n",
    "w1 = np.random.rand(n_feat,1)*0.01 #0.01 - нормируем таким образом наши веса, чтобы избежать деления на ноль при бэкпропе, \n",
    "                                    #эмпирически выбрано, так как сами фичи у нас имеют значения близкие к 0\n",
    "b1 = np.zeros(1) #размерность должна совпадать с количеством параметров, которые у нас останутся после матричного перемножения\n",
    "\n",
    "losses = [] #на каждой итерации (и для всех эпох) будем сохранять сюда наш Лосс, чтобы видеть обучается ли НС\n",
    "\n",
    "for n_epoch in range(epochs):\n",
    "    \n",
    "    print(f'Epoch: {n_epoch + 1}')\n",
    "    \n",
    "    for x, y in train_loader:\n",
    "\n",
    "        x = x.view(x.shape[0], -1).numpy() #приводим к размерности (128,784)\n",
    "        y = np.expand_dims(y.numpy(), 1) #приводим к размерности (128,1)\n",
    "\n",
    "        h1 = x.dot(w1) + b1 #переход в одномерное пространство\n",
    "        p = 1/(1+np.exp(-h1)) #преобразование в \"вероятности\"\n",
    "        \n",
    "        bce = (-np.sum(np.multiply(np.log(p), y) + np.multiply((1 - y), np.log(1 - p)))) / batch_size \n",
    "        #расчет энтропии с усреднением по размеру бача\n",
    "          \n",
    "        losses.append(bce) \n",
    "        #ниже производная bce и sigmoid, если вы распишите две этих производные, перемножите и сократите, то полчится следующая строчка\n",
    "        dp = (p - y) / batch_size \n",
    "        dw1 = np.dot(x.T, dp) # производная по линейному преобразванию, относительно W - весов \n",
    "        db1 = np.sum(dp) # производная по лин преобразованиюб относительно В - баяса, \n",
    "        #здесь по идее должно быть перемножение на единичный вектор (128,1), но это тоже самое что и сумма значениеб типа лайф хак\n",
    "        \n",
    "        w1 -= learning_rate * dw1 # Обновим веса и баясы \n",
    "        b1 -= learning_rate * db1"
   ]
  },
  {
   "cell_type": "markdown",
   "metadata": {
    "id": "Lc3-pw-4wMum"
   },
   "source": [
    "А теперь построим график функции потерь"
   ]
  },
  {
   "cell_type": "code",
   "execution_count": 104,
   "metadata": {
    "colab": {
     "base_uri": "https://localhost:8080/",
     "height": 747
    },
    "id": "NvB4U5OXhE3t",
    "outputId": "6248bafc-51df-44a5-fc44-5c47efd21817",
    "scrolled": true
   },
   "outputs": [
    {
     "data": {
      "text/plain": [
       "Text(0, 0.5, 'Loss function')"
      ]
     },
     "execution_count": 104,
     "metadata": {},
     "output_type": "execute_result"
    },
    {
     "data": {
      "image/png": "[encoded data removed]",
      "text/plain": [
       "<Figure size 1008x864 with 1 Axes>"
      ]
     },
     "metadata": {
      "needs_background": "light"
     },
     "output_type": "display_data"
    }
   ],
   "source": [
    "plt.figure(figsize=(14, 12))\n",
    "plt.plot(losses)\n",
    "plt.grid()\n",
    "plt.title('Training process')\n",
    "plt.xlabel('Iterations')\n",
    "plt.ylabel('Loss function')"
   ]
  },
  {
   "cell_type": "markdown",
   "metadata": {
    "id": "IfpCVrN2tO5S"
   },
   "source": [
    "## Математика \n",
    "\n",
    "\n",
    "![alt text](https://sun9-39.userapi.com/c850608/v850608777/47a4/fgZlI898IUU.jpg)\n",
    "![alt text](https://sun9-41.userapi.com/c858216/v858216777/cc4f5/v3CPa-tnm80.jpg)\n",
    "![alt text](https://sun9-67.userapi.com/c857632/v857632471/f6e95/H0dsmWsUInc.jpg)\n",
    "![alt text](https://sun9-71.userapi.com/c858120/v858120274/10d0ef/hdKO-3Syk3g.jpg)\n",
    "\n"
   ]
  },
  {
   "cell_type": "markdown",
   "metadata": {
    "id": "ToNAC3-bN_IN"
   },
   "source": [
    "А теперь ваша очередь, нужно написать двуслоный персептрон, согласно коду и выкладкам выше"
   ]
  },
  {
   "cell_type": "code",
   "execution_count": 31,
   "metadata": {
    "id": "yJSR8hdTN_IO",
    "outputId": "a929058d-7946-40e3-e9d7-f9bad80b1de3"
   },
   "outputs": [
    {
     "name": "stdout",
     "output_type": "stream",
     "text": [
      "Epoch: 1\n",
      "Epoch: 2\n",
      "Epoch: 3\n",
      "Epoch: 4\n",
      "Epoch: 5\n"
     ]
    }
   ],
   "source": [
    "learning_rate = 0.01\n",
    "epochs = 5\n",
    "\n",
    "w1 = np.random.rand(n_feat,100)*0.01 \n",
    "b1 = np.zeros(100)\n",
    "w2 = np.random.rand(100,1)*0.01\n",
    "b2 = np.zeros(1)\n",
    "\n",
    "losses = []\n",
    "\n",
    "for n_epoch in range(epochs):\n",
    "    \n",
    "    print(f'Epoch: {n_epoch + 1}')\n",
    "    \n",
    "    for x, y in train_loader:\n",
    "        \n",
    "        x = x.view(x.shape[0], -1).numpy()\n",
    "        y = np.expand_dims(y.numpy(), 1)\n",
    "        \n",
    "        def relu(t):\n",
    "            return np.maximum(t, 0)\n",
    "\n",
    "        z1 = x.dot(w1) + b1\n",
    "        a1 = relu(z1)\n",
    "        z2 = a1.dot(w2) + b2\n",
    "        a2 = 1/(1+np.exp(-z2))\n",
    "\n",
    "        bce = (-np.sum(np.multiply(np.log(a2), y) + np.multiply((1 - y), np.log(1 - a2)))) / batch_size\n",
    "        losses.append(bce)\n",
    "        \n",
    "        def drelu(x):\n",
    "            x[x<=0] = 0\n",
    "            x[x>0] = 1\n",
    "            return x\n",
    "        \n",
    "        dp = (a2 - y) / batch_size \n",
    "        dw2 = np.dot(a1.T, dp)\n",
    "        db2 = np.sum(dp)\n",
    "        da1 = np.dot(dp, w2.T)\n",
    "        dz1 = np.multiply(da1, drelu(a1))\n",
    "        dw1 = np.dot(x.T, dz1) \n",
    "        db1 = np.sum(dz1) \n",
    "        \n",
    "        w2 -= learning_rate * dw2 \n",
    "        b2 -= learning_rate * db2\n",
    "        w1 -= learning_rate * dw1 \n",
    "        b1 -= learning_rate * db1"
   ]
  },
  {
   "cell_type": "markdown",
   "metadata": {
    "id": "ur7SqyVGN_IY"
   },
   "source": [
    "## Подсказки по размерностям\n",
    "\n",
    "### Forward\n",
    "\n",
    "- z1 - первое линейное преобразование - (BATCH_SIZE, INNER_FEATURES)\n",
    "- a1 - Применение нелинейности - (BATCH_SIZE, INNER_FEATURES)\n",
    "- z2 - второе нелинейное преобразование - (BATCH_SIZE, 1)\n",
    "- pred or A2- сигмоида - (BATCH_SIZE, 1)\n",
    "- loss - функция потерь - скаляр\n",
    "\n",
    "### Backward\n",
    "\n",
    "- d_BCE/d_pred - градиент функции потерь по pred - (BATCH_SIZE, 1)\n",
    "- d_pred/dz2 - градиент сигмоиды по z2 - (BATCH_SIZE, 1)\n",
    "- dz2/da1 - градиент линейного преобразования по a1 - (BATCH_SIZE, INNER_FEATURES)\n",
    "- dz2/dw2 - градиент линейного преобразования по w2 - (INNER_FEATURES, 1)\n",
    "- dz2/db2 - градиент линейного преобразования по b2 - (1,)\n",
    "- da1/dz1 - градиент нелинейной функции по z1 - (BATCH_SIZE, INNER_FEATURES)\n",
    "- dz1/dw1 - градиент линейного преобразования по w1 - (IN_FEATURES, INNER_FEATURES)\n",
    "- dz1/db1 - градиент линейного преобразования по b1 - (INNER_FEATURES,)"
   ]
  },
  {
   "cell_type": "markdown",
   "metadata": {
    "id": "ihOoASMAN_Ia"
   },
   "source": [
    "и график нарисуйте"
   ]
  },
  {
   "cell_type": "code",
   "execution_count": 32,
   "metadata": {
    "id": "CwRzXKRNN_Ic",
    "outputId": "a0cf5951-b66f-431d-9482-d258760039e1"
   },
   "outputs": [
    {
     "data": {
      "image/png": "[encoded data removed]",
      "text/plain": [
       "<Figure size 1008x864 with 1 Axes>"
      ]
     },
     "metadata": {
      "needs_background": "light"
     },
     "output_type": "display_data"
    }
   ],
   "source": [
    "plt.figure(figsize=(14, 12))\n",
    "plt.plot(losses)\n",
    "plt.grid()\n",
    "plt.title('Training process')\n",
    "plt.xlabel('Iterations')\n",
    "plt.ylabel('Loss function');"
   ]
  },
  {
   "cell_type": "code",
   "execution_count": null,
   "metadata": {
    "id": "vigk5CgmIDsP"
   },
   "outputs": [],
   "source": []
  },
  {
   "cell_type": "markdown",
   "metadata": {
    "id": "axU2DnJ1IT1J"
   },
   "source": [
    "# Тестирование"
   ]
  },
  {
   "cell_type": "markdown",
   "metadata": {
    "id": "4sd8o1ZbIEXH"
   },
   "source": [
    "А как это тестировать? Да, очень просто нужно просто выполнять форвард без бэкворда, то есть последовательно применять преобразования с обученными весами"
   ]
  },
  {
   "cell_type": "code",
   "execution_count": 33,
   "metadata": {
    "id": "7DKeGWwzIliO"
   },
   "outputs": [],
   "source": [
    "losses_test = []\n",
    "predicted = []\n",
    "true_lbls = []\n",
    "\n",
    "for x, y in test_loader:\n",
    "\n",
    "    x = x.view(x.shape[0], -1).numpy()\n",
    "    y = np.expand_dims(y.numpy(), 1)\n",
    "\n",
    "    h1 = x.dot(w1) + b1 #переход в одномерное пространство\n",
    "    p = 1/(1+np.exp(-h1)) #преобразование в \"вероятности\"\n",
    "  \n",
    "    bce = (-np.sum(np.multiply(np.log(p), y) + np.multiply((1 - y), np.log(1 - p)))) / batch_size \n",
    "  #расчет энтропии с усреднением по размеру бача\n",
    "    \n",
    "    losses_test.append(bce)\n",
    "    predicted.extend(p)\n",
    "    true_lbls.extend(y) "
   ]
  },
  {
   "cell_type": "markdown",
   "metadata": {
    "id": "259SOuP5K2HR"
   },
   "source": [
    "Проверим, что для каждого семплау нас есть предсказание"
   ]
  },
  {
   "cell_type": "code",
   "execution_count": 34,
   "metadata": {
    "colab": {
     "base_uri": "https://localhost:8080/",
     "height": 34
    },
    "id": "J3NQGFxfJY-4",
    "outputId": "2f71ca0f-f296-481d-b076-1b80a4385b4e"
   },
   "outputs": [
    {
     "name": "stdout",
     "output_type": "stream",
     "text": [
      "2038 2038\n"
     ]
    }
   ],
   "source": [
    "print(len(predicted), len(true_lbls))"
   ]
  },
  {
   "cell_type": "markdown",
   "metadata": {
    "id": "xWJ3fjLhK9z4"
   },
   "source": [
    "Теперь применим стандартную Ф меру и оценим нашу модель"
   ]
  },
  {
   "cell_type": "code",
   "execution_count": 35,
   "metadata": {
    "colab": {
     "base_uri": "https://localhost:8080/",
     "height": 34
    },
    "id": "BbD-n9rVJlBe",
    "outputId": "1f3fb485-9ec7-42f6-aba8-6e390cef1b60"
   },
   "outputs": [
    {
     "name": "stdout",
     "output_type": "stream",
     "text": [
      "F1 score is equal to: 0.23\n"
     ]
    }
   ],
   "source": [
    "from sklearn.metrics import f1_score\n",
    "pred = np.array([round(i[0]) for i in predicted]) \n",
    "# У нас были вероятности а нужны классы поэтому просто округлим каждое значени и получим лейблы \n",
    "t_lbls = np.array(true_lbls).squeeze() #снимем лишнюю размерность\n",
    "f1 = f1_score(pred, t_lbls, average='weighted')\n",
    "print('F1 score is equal to: {0:0.02f}'.format(f1))"
   ]
  },
  {
   "cell_type": "markdown",
   "metadata": {
    "id": "vMxfUk9DLfNx"
   },
   "source": [
    "Сделайте тоже самое для своей модели..."
   ]
  },
  {
   "cell_type": "code",
   "execution_count": 36,
   "metadata": {
    "id": "plkig1rcLmG_"
   },
   "outputs": [
    {
     "name": "stdout",
     "output_type": "stream",
     "text": [
      "F1 score is equal to: 0.97\n"
     ]
    }
   ],
   "source": [
    "losses_test = []\n",
    "predicted = []\n",
    "true_lbls = []\n",
    "\n",
    "for x, y in test_loader:\n",
    "\n",
    "    x = x.view(x.shape[0], -1).numpy()\n",
    "    y = np.expand_dims(y.numpy(), 1)\n",
    "\n",
    "    z1 = x.dot(w1) + b1\n",
    "    a1 = relu(z1)\n",
    "    z2 = a1.dot(w2) + b2\n",
    "    a2 = 1/(1+np.exp(-z2))\n",
    "  \n",
    "    bce = (-np.sum(np.multiply(np.log(a2), y) + np.multiply((1 - y), np.log(1 - a2)))) / batch_size\n",
    "    \n",
    "    losses_test.append(bce)\n",
    "    predicted.extend(a2)\n",
    "    true_lbls.extend(y) \n",
    "    \n",
    "from sklearn.metrics import f1_score\n",
    "pred = np.array([round(i[0]) for i in predicted]) \n",
    "t_lbls = np.array(true_lbls).squeeze() \n",
    "f1 = f1_score(pred, t_lbls, average='weighted')\n",
    "print('F1 score is equal to: {0:0.02f}'.format(f1))"
   ]
  },
  {
   "cell_type": "markdown",
   "metadata": {
    "id": "zHg6S-QgN_Mm"
   },
   "source": [
    "# Немного торча"
   ]
  },
  {
   "cell_type": "code",
   "execution_count": null,
   "metadata": {
    "id": "rWON-EQvN_Mn"
   },
   "outputs": [],
   "source": [
    "import torch"
   ]
  },
  {
   "cell_type": "markdown",
   "metadata": {
    "id": "MYyJMcmQN_Mq"
   },
   "source": [
    "### Мы можем определить нашу модель как последовательность уже существующих слоев, как в керасе"
   ]
  },
  {
   "cell_type": "code",
   "execution_count": null,
   "metadata": {
    "colab": {
     "base_uri": "https://localhost:8080/"
    },
    "id": "7WkLbwyAN_Mr",
    "outputId": "701a7938-6d56-4870-e967-99302c50b4f5"
   },
   "outputs": [],
   "source": [
    "model = torch.nn.Sequential()\n",
    "\n",
    "model.add_module(name='linear_1', module=torch.nn.Linear(in_features=784, out_features=256))\n",
    "model.add_module(name='relu', module=torch.nn.ReLU())\n",
    "model.add_module(name='linear_2', module=torch.nn.Linear(in_features=256, out_features=1))\n",
    "model.add_module(name='sigmoid', module=torch.nn.Sigmoid())\n",
    "\n",
    "model"
   ]
  },
  {
   "cell_type": "markdown",
   "metadata": {
    "id": "xFnSynhmN_Mw"
   },
   "source": [
    "### Либо так"
   ]
  },
  {
   "cell_type": "code",
   "execution_count": null,
   "metadata": {
    "colab": {
     "base_uri": "https://localhost:8080/"
    },
    "id": "NjBXbnSNN_Mx",
    "outputId": "8fc4430a-67b3-410d-b201-2a076d03c67a"
   },
   "outputs": [],
   "source": [
    "model = torch.nn.Sequential(\n",
    "    torch.nn.Linear(in_features=784, out_features=256),\n",
    "    torch.nn.ReLU(),\n",
    "    torch.nn.Linear(in_features=256, out_features=1),\n",
    "    torch.nn.Sigmoid()\n",
    ")\n",
    "\n",
    "model"
   ]
  },
  {
   "cell_type": "markdown",
   "metadata": {
    "id": "MKOnBBifN_M1"
   },
   "source": [
    "## А вот для чего нужно было писать в домашке классы\n",
    "## Для определения своих моделей/слоев/чего вам захочется нам нужно сделать такую структуру"
   ]
  },
  {
   "cell_type": "code",
   "execution_count": null,
   "metadata": {
    "id": "iNXM6WnUN_M9"
   },
   "outputs": [],
   "source": [
    "# наследуемся от класса torch.nn.Module\n",
    "class MLP(torch.nn.Module):\n",
    "    \n",
    "    # определяем метод __init__\n",
    "    # он нужен для того, чтобы мы могли определить нужные нам слои, веса, сохраняемые операции\n",
    "    # \n",
    "    # передаем ссылку на самого себя первым параметром\n",
    "    # \n",
    "    # определяем любые другие передаваемые аргументы\n",
    "    # могут быть чем угодно: числа, словари, другие слои, другие модели и вообще все что угодно\n",
    "    # \n",
    "    def __init__(self, in_features, inner_features, out_features):\n",
    "        \n",
    "        # Главная задача этого метода - возможность использования в классе потомке, методов класса-родителя\n",
    "        # Вызываем __init__ родителя - torch.nn.Module\n",
    "        super().__init__()\n",
    "        \n",
    "        # определяем слои и все что захотим сохранять/использовать\n",
    "        self.linear_1 = torch.nn.Linear(in_features=in_features, out_features=inner_features)\n",
    "        self.non_linear_function = torch.nn.ReLU()\n",
    "        self.linear_2 = torch.nn.Linear(in_features=inner_features, out_features=out_features)\n",
    "        self.sigmoid = torch.nn.Sigmoid()\n",
    "        \n",
    "    # нам нужно обязательно реализовать метод forward\n",
    "    # это то, что нашей модели нужно делать, как оперировать с входными данными, как рассчитывать\n",
    "    # метод backward нам не нужно реализовывать, потому что в торче есть автоматическое дифференцирование\n",
    "    # главное, чтобы наши операции были дифференцируемы\n",
    "    # некоторые подробности можете узнать здесь:\n",
    "    # https://pytorch.org/tutorials/beginner/blitz/autograd_tutorial.html#sphx-glr-beginner-blitz-autograd-tutorial-py\n",
    "    # также список доступных дифференцируемых операций можете посмотреть здесь:\n",
    "    # https://pytorch.org/docs/stable/tensors.html\n",
    "    def forward(self, x):\n",
    "        \n",
    "        # наша привычная схема\n",
    "        x = self.linear_1(x)\n",
    "        x = self.non_linear_function(x)\n",
    "        x = self.linear_2(x)\n",
    "        x = self.sigmoid(x)\n",
    "        \n",
    "        return x\n",
    "    \n",
    "    # мы также можем реализовать любые другие полезные нам методы внутри класса"
   ]
  },
  {
   "cell_type": "code",
   "execution_count": null,
   "metadata": {
    "id": "Ftetvx8MN_NA"
   },
   "outputs": [],
   "source": [
    "# определяем нашу модель\n",
    "model = MLP(in_features=784, inner_features=256, out_features=1)"
   ]
  },
  {
   "cell_type": "code",
   "execution_count": null,
   "metadata": {
    "colab": {
     "base_uri": "https://localhost:8080/"
    },
    "id": "G3zivrXiN_ND",
    "outputId": "c9cc05c0-44ca-4bd6-d7bd-2207123cf41b",
    "scrolled": true
   },
   "outputs": [],
   "source": [
    "model"
   ]
  },
  {
   "cell_type": "code",
   "execution_count": null,
   "metadata": {
    "colab": {
     "base_uri": "https://localhost:8080/"
    },
    "id": "pa4BG_t_N_NG",
    "outputId": "ac7dbe4a-e253-4ba5-f5ee-8da36cd5b715"
   },
   "outputs": [],
   "source": [
    "# можем посмотреть веса\n",
    "model.linear_1.weight.shape"
   ]
  },
  {
   "cell_type": "code",
   "execution_count": null,
   "metadata": {
    "id": "n2hPqcyxN_NQ"
   },
   "outputs": [],
   "source": [
    "# еще нам нужно задать функцию потерь \n",
    "criterion = torch.nn.BCELoss()"
   ]
  },
  {
   "cell_type": "code",
   "execution_count": null,
   "metadata": {
    "id": "IEpYutCqN_Na"
   },
   "outputs": [],
   "source": [
    "# и оптимизатор, куда нужно передать параметры модели\n",
    "# параметры модели можно взять методом класса .parameters()\n",
    "optimizer = torch.optim.SGD(params=model.parameters(), lr=0.01)"
   ]
  },
  {
   "cell_type": "code",
   "execution_count": null,
   "metadata": {
    "colab": {
     "base_uri": "https://localhost:8080/"
    },
    "id": "V-ssB6KsN_Nf",
    "outputId": "2538defa-f558-49d4-8103-e415be2c4d62"
   },
   "outputs": [],
   "source": [
    "# можем посмотреть на параметры нашей модели\n",
    "params = list(model.parameters())\n",
    "params"
   ]
  },
  {
   "cell_type": "markdown",
   "metadata": {
    "id": "5dnDbvw0N_No"
   },
   "source": [
    "# Обучим нашу модель"
   ]
  },
  {
   "cell_type": "code",
   "execution_count": null,
   "metadata": {
    "colab": {
     "base_uri": "https://localhost:8080/",
     "height": 235
    },
    "id": "O8ayasdLN_Np",
    "outputId": "562e950a-927e-4dfa-971f-4248c56b5a9a"
   },
   "outputs": [],
   "source": [
    "# давайте сохранять значения нашей функции потерь каждую итерацию обучения\n",
    "losses = []\n",
    "\n",
    "# эта штука все еще отдает нам батчи данных\n",
    "# мы поговорим про нее позже\n",
    "for x, y in train_loader:\n",
    "\n",
    "    x = x.view(x.shape[0], -1)\n",
    "    y = y.unsqueeze(1).float()\n",
    "    \n",
    "    # обновим наши градиенты\n",
    "    # будем делать это каждую итерацию обучения\n",
    "    # потому что торч сохраняет в себе все градиенты пока не удалите таким образом рассчитанные градиенты\n",
    "    # \n",
    "    # НЕОБЯЗАТЕЛЬНЫЕ ДЕТАЛИ\n",
    "    # функция сохранения градиентов нужна для аккамуляции градиентов\n",
    "    # например, когда нам не хватает памяти на большой батч\n",
    "    # мы можем несколько раз прогнать forward на разных батчах\n",
    "    # наши градиенты будут сохраняться\n",
    "    # и только потом обновить через несколько итераций forward обновить наши веса\n",
    "    # таким образом у нас получается больше батч\n",
    "    # \n",
    "    optimizer.zero_grad()\n",
    "    \n",
    "    # \n",
    "    # предсказание нашей модели\n",
    "    # здесь торч сам сохраняет необходимую информацию\n",
    "    # чтобы понять эту логику у нас как раз и была часть домашки про собственные классы\n",
    "    # \n",
    "    # торч строит динамический граф вычислений\n",
    "    # то есть строит граф по тем операциям, которые вы определили в методе forward\n",
    "    # \n",
    "    # то есть торч понимает, что вы сначала применили линейное преобразование\n",
    "    # знает, где лежат веса для этого линейного преобразования\n",
    "    # знает, что вы затем применили релу\n",
    "    # затем опять линейное преобразование\n",
    "    # затем сигмоиду\n",
    "    # и вот таким образом торч выстроил граф\n",
    "    # который нужен будет для backpropogation\n",
    "    # \n",
    "    pred = model(x)\n",
    "    \n",
    "    # \n",
    "    # рассчитываем функцию потерь, добавляя в наш граф вычислений этот узел\n",
    "    # \n",
    "    loss = criterion(pred, y.float())\n",
    "    \n",
    "    # \n",
    "    # вызываем метод backward() от нашей функции потерь (это крайний узел нашего графа вычислений)\n",
    "    # этот метод проходит от конца графа в начало, вычисляя необходимые градиенты\n",
    "    # передаем градиенты на следующие узлы\n",
    "    # для весов сохраняет\n",
    "    # \n",
    "    # то есть это почти то же самое, что мы делали в домашке с классами\n",
    "    # \n",
    "    loss.backward()\n",
    "    \n",
    "    # \n",
    "    # теперь мы знаем необходимые градиенты и можем обновить веса с помощью градиентного спуска\n",
    "    # \n",
    "    optimizer.step()\n",
    "    \n",
    "    # \n",
    "    # сохраним текущее значение функции потерь, чтобы потом могли посмотреть на график\n",
    "    # очень важный момент: нам нужно отсоединить значение нашей фунции потерь от графа вычислений\n",
    "    # чтобы граф не строился дальше на каждой итерации обучения\n",
    "    # так мы рано или поздно переполним память\n",
    "    # поэтому вызываем этот метод\n",
    "    # работает для скаляров\n",
    "    # \n",
    "    # для тензоров работает метод .tolist()\n",
    "    # \n",
    "    current_loss_value = loss.item()\n",
    "    losses.append(loss.item())"
   ]
  },
  {
   "cell_type": "code",
   "execution_count": null,
   "metadata": {
    "id": "KhopLN33N_Nw"
   },
   "outputs": [],
   "source": [
    "# Одна эпоха прошла"
   ]
  },
  {
   "cell_type": "code",
   "execution_count": null,
   "metadata": {
    "colab": {
     "base_uri": "https://localhost:8080/",
     "height": 235
    },
    "id": "SIGFnAeMN_Nz",
    "outputId": "e225e2b2-28dd-4ffa-d8b6-fd42ebca2e08"
   },
   "outputs": [],
   "source": [
    "plt.figure(figsize=(14, 12))\n",
    "plt.plot(losses)\n",
    "plt.grid()\n",
    "plt.title('Training process')\n",
    "plt.xlabel('Iterations')\n",
    "plt.ylabel('Loss function');"
   ]
  },
  {
   "cell_type": "markdown",
   "metadata": {
    "id": "8oBFJlYrN_N3"
   },
   "source": [
    "# Теперь мы можем что-то предсказать"
   ]
  },
  {
   "cell_type": "code",
   "execution_count": null,
   "metadata": {
    "id": "pYQ-5cXnN_N4"
   },
   "outputs": [],
   "source": [
    "for x, y in test_loader:\n",
    "\n",
    "    x = x.view(x.shape[0], -1)\n",
    "    y = y.unsqueeze(1).float()\n",
    "    \n",
    "    # чтобы не ходить по всему тестовому датасету, прекратим ходить после первой итерации\n",
    "    break"
   ]
  },
  {
   "cell_type": "code",
   "execution_count": null,
   "metadata": {
    "id": "Rb3ImXPNN_N_",
    "outputId": "a9ea50e8-2230-4b85-b1e2-d75408597581"
   },
   "outputs": [],
   "source": [
    "x.shape"
   ]
  },
  {
   "cell_type": "code",
   "execution_count": null,
   "metadata": {
    "id": "5V_GO6_zN_OE",
    "outputId": "b12de3e1-6478-42b4-82a4-230411f251a6"
   },
   "outputs": [],
   "source": [
    "y.shape"
   ]
  },
  {
   "cell_type": "code",
   "execution_count": null,
   "metadata": {
    "id": "_zHM8GRpN_OG",
    "outputId": "1526be79-e75b-4b8f-c7e0-771c0e7960ba"
   },
   "outputs": [],
   "source": [
    "# переходим в режим предсказания\n",
    "# \n",
    "# позже в курсе мы разберем зачем конкретно это нужно\n",
    "# \n",
    "# для искушенного нетерпеливого читателя: дропаут больше не дропаутит, батч норм больше не нормирует каждый батч\n",
    "# а использует накопленную статистику при обучении и тд\n",
    "# \n",
    "model.eval()"
   ]
  },
  {
   "cell_type": "code",
   "execution_count": null,
   "metadata": {
    "id": "CT4N0ZAPN_OI"
   },
   "outputs": [],
   "source": [
    "# этот контект позволяет не сохранять необходимую информацию для рассчета градиентов\n",
    "with torch.no_grad():\n",
    "\n",
    "    pred = model(x)"
   ]
  },
  {
   "cell_type": "code",
   "execution_count": null,
   "metadata": {
    "id": "R48ZI_iJN_OK",
    "outputId": "193d89f9-61e1-4a96-8445-7b47d57ff8d1"
   },
   "outputs": [],
   "source": [
    "pred.shape"
   ]
  },
  {
   "cell_type": "code",
   "execution_count": null,
   "metadata": {
    "id": "Azbcidg1N_OM"
   },
   "outputs": [],
   "source": [
    "# избавимся от единичной размерности\n",
    "pred = pred.squeeze()\n",
    "y = y.squeeze()"
   ]
  },
  {
   "cell_type": "code",
   "execution_count": null,
   "metadata": {
    "id": "L7zm8vzBN_OO",
    "outputId": "67f0fe47-50f7-44c8-9148-701fdec25e1f"
   },
   "outputs": [],
   "source": [
    "pred.shape"
   ]
  },
  {
   "cell_type": "code",
   "execution_count": null,
   "metadata": {
    "id": "JBARJLDIN_OT"
   },
   "outputs": [],
   "source": [
    "# таким образом из торчовых тензоров мы можем сделать нумпаевские массивы\n",
    "pred = pred.numpy()\n",
    "y = y.numpy()"
   ]
  },
  {
   "cell_type": "code",
   "execution_count": null,
   "metadata": {
    "id": "8Y4gi0q7N_OZ",
    "outputId": "a170d0d4-c6a8-408e-c3bf-1148de786113"
   },
   "outputs": [],
   "source": [
    "y"
   ]
  },
  {
   "cell_type": "code",
   "execution_count": null,
   "metadata": {
    "id": "QPlZdMfiN_Og",
    "outputId": "3673c2d3-fffe-4112-97d7-a31c06691daa"
   },
   "outputs": [],
   "source": [
    "type(y)"
   ]
  },
  {
   "cell_type": "code",
   "execution_count": null,
   "metadata": {
    "id": "Ck7Voa7HN_Ok"
   },
   "outputs": [],
   "source": [
    "# бинаризируем наши предсказания\n",
    "pred[pred > 0.5] = 1\n",
    "pred[pred <= 0.5] = 0"
   ]
  },
  {
   "cell_type": "code",
   "execution_count": null,
   "metadata": {
    "id": "Ts85uzXFN_Om",
    "outputId": "62122006-ec73-4b48-ccb2-ca6ad01d42a2"
   },
   "outputs": [],
   "source": [
    "# посчитаем метрику на батче\n",
    "accuracy_score(y, pred)"
   ]
  },
  {
   "cell_type": "code",
   "execution_count": null,
   "metadata": {
    "id": "yoynJ1-2N_Op"
   },
   "outputs": [],
   "source": [
    "# заново определим нашу модель и выучимся несколько эпох\n",
    "# будут уже новые параметры\n",
    "model = MLP(in_features=784, inner_features=256, out_features=1)\n",
    "\n",
    "criterion = torch.nn.BCELoss()\n",
    "# мы позже поговорим про этот оптимизационный алгоритм\n",
    "optimizer = torch.optim.Adam(params=model.parameters())"
   ]
  },
  {
   "cell_type": "markdown",
   "metadata": {
    "id": "hzBgaRe7N_Os"
   },
   "source": [
    "# Типичный цикл обучения с кучей сохранений лоссов"
   ]
  },
  {
   "cell_type": "code",
   "execution_count": null,
   "metadata": {
    "id": "1zO6ruQbN_Ot",
    "outputId": "7d4304f2-a0f5-4c08-bd00-098719fe4df9"
   },
   "outputs": [],
   "source": [
    "epochs = 10\n",
    "losses = []\n",
    "# нужно для early stopping, то есть трекать лучший лосс на валидации\n",
    "best_test_loss = 10.\n",
    "\n",
    "for n_epoch in range(epochs):\n",
    "    \n",
    "    train_losses = []\n",
    "    test_losses = []\n",
    "    test_preds = []\n",
    "    test_targets = []\n",
    "    \n",
    "    progress_bar = tqdm(total=len(train_loader.dataset), desc='Epoch {}'.format(n_epoch + 1))\n",
    "    \n",
    "    for x, y in train_loader:\n",
    "        \n",
    "        x = x.view(x.shape[0], -1)\n",
    "        y = y.unsqueeze(1).float()\n",
    "        \n",
    "        optimizer.zero_grad()\n",
    "        \n",
    "        pred = model(x)\n",
    "        \n",
    "        loss = criterion(pred, y.float())\n",
    "        \n",
    "        loss.backward()\n",
    "        \n",
    "        optimizer.step()\n",
    "        \n",
    "        train_losses.append(loss.item())\n",
    "        losses.append(loss.item())\n",
    "        \n",
    "        progress_bar.set_postfix(train_loss = np.mean(losses[-100:]))\n",
    "\n",
    "        progress_bar.update(x.shape[0])\n",
    "        \n",
    "    progress_bar.close()\n",
    "    \n",
    "    for x, y in test_loader:\n",
    "        \n",
    "        x = x.view(x.shape[0], -1)\n",
    "        y = y.unsqueeze(1).float()\n",
    "\n",
    "        with torch.no_grad():\n",
    "            \n",
    "            pred = model(x)\n",
    "            \n",
    "        test_preds.append(pred.numpy())\n",
    "        test_targets.append(y.numpy())\n",
    "\n",
    "        loss = criterion(pred, y)\n",
    "\n",
    "        test_losses.append(loss.item())\n",
    "        \n",
    "    mean_test_loss = np.mean(test_losses)\n",
    "        \n",
    "    print('Losses: train - {:.3f}, test = {:.3f}'.format(np.mean(train_losses), mean_test_loss))\n",
    "    \n",
    "    test_preds = np.concatenate(test_preds)\n",
    "    test_preds = test_preds.squeeze()\n",
    "    test_targets = np.concatenate(test_targets).squeeze()\n",
    "    \n",
    "    test_preds[test_preds > 0.5] = 1\n",
    "    test_preds[test_preds <= 0.5] = 0\n",
    "    \n",
    "    accurary = accuracy_score(test_targets, test_preds)\n",
    "\n",
    "    print('Test: accuracy - {:.3f}'.format(accurary))\n",
    "        \n",
    "    # как раз early stopping\n",
    "    # то есть: если наша функция потерь на валидационном датасете стала расти, то прекращаем обучение\n",
    "    # рост фунции потерь на валидационном датасете говорит о переобучении\n",
    "    # пожалуй, самый популярный метод валидации для нейронных сетей\n",
    "    if mean_test_loss < best_test_loss:\n",
    "        best_test_loss = mean_test_loss\n",
    "    else:\n",
    "        print('Early stopping')\n",
    "        break    "
   ]
  },
  {
   "cell_type": "code",
   "execution_count": null,
   "metadata": {
    "id": "U4URcBJPN_Ow",
    "outputId": "c5b2dd03-5307-4d95-80e5-99a3b65a3f65"
   },
   "outputs": [],
   "source": [
    "plt.figure(figsize=(14, 12))\n",
    "plt.plot(losses)\n",
    "plt.grid()\n",
    "plt.title('Training process')\n",
    "plt.xlabel('Iterations')\n",
    "plt.ylabel('Loss function');"
   ]
  }
 ],
 "metadata": {
  "accelerator": "GPU",
  "colab": {
   "name": "Homework1Part1.ipynb",
   "provenance": []
  },
  "kernelspec": {
   "display_name": "Python 3",
   "language": "python",
   "name": "python3"
  },
  "language_info": {
   "codemirror_mode": {
    "name": "ipython",
    "version": 3
   },
   "file_extension": ".py",
   "mimetype": "text/x-python",
   "name": "python",
   "nbconvert_exporter": "python",
   "pygments_lexer": "ipython3",
   "version": "3.8.8"
  }
 },
 "nbformat": 4,
 "nbformat_minor": 1
}
